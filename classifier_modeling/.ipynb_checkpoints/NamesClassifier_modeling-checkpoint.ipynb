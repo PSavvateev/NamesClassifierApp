{
 "cells": [
  {
   "cell_type": "code",
   "execution_count": 1,
   "id": "e00e1e33-2601-44a6-87e8-c02f8a6d72e2",
   "metadata": {
    "tags": []
   },
   "outputs": [],
   "source": [
    "import numpy as np\n",
    "import pandas as pd\n",
    "import joblib\n",
    "from unidecode import unidecode\n",
    "from sklearn.model_selection import train_test_split"
   ]
  },
  {
   "cell_type": "markdown",
   "id": "db3fe357-6c84-4779-9e6f-46a3a88ce051",
   "metadata": {},
   "source": [
    "## Preparing the Name-Gender dataset\n"
   ]
  },
  {
   "cell_type": "code",
   "execution_count": 4,
   "id": "ae4a4b3d-b438-4493-b78c-3b7352769b68",
   "metadata": {
    "tags": []
   },
   "outputs": [],
   "source": [
    "df1 = pd.read_csv('data/names_corp.csv')\n",
    "df2 = pd.read_csv('data/names_fr.csv')\n",
    "df3 = pd.read_csv('data/names_nl.csv')\n",
    "df4 = pd.read_csv('data/names_se.csv')\n",
    "df5 = pd.read_csv('data/names_int.csv')"
   ]
  },
  {
   "cell_type": "code",
   "execution_count": null,
   "id": "67efeb43-8328-4311-ba78-1f3433311935",
   "metadata": {},
   "outputs": [],
   "source": []
  },
  {
   "cell_type": "code",
   "execution_count": 5,
   "id": "68699e13-ddbb-4001-92ee-8d63ae5b5b86",
   "metadata": {},
   "outputs": [],
   "source": [
    "frames = [df1, df2, df3, df4, df5]\n",
    "names = pd.concat(frames)\n",
    "names = names.reset_index(drop=True)\n",
    "names.drop_duplicates(inplace=True)"
   ]
  },
  {
   "cell_type": "code",
   "execution_count": 6,
   "id": "bc19edd0-91e0-4168-b770-82bb2e980e7d",
   "metadata": {},
   "outputs": [
    {
     "data": {
      "text/plain": [
       "Male      36911\n",
       "Female    31514\n",
       "Name: gender, dtype: int64"
      ]
     },
     "execution_count": 6,
     "metadata": {},
     "output_type": "execute_result"
    }
   ],
   "source": [
    "names['gender'].value_counts()"
   ]
  },
  {
   "cell_type": "code",
   "execution_count": 7,
   "id": "c67153ff-847a-4738-a4e7-3eda89179f66",
   "metadata": {},
   "outputs": [
    {
     "data": {
      "text/html": [
       "<div>\n",
       "<style scoped>\n",
       "    .dataframe tbody tr th:only-of-type {\n",
       "        vertical-align: middle;\n",
       "    }\n",
       "\n",
       "    .dataframe tbody tr th {\n",
       "        vertical-align: top;\n",
       "    }\n",
       "\n",
       "    .dataframe thead th {\n",
       "        text-align: right;\n",
       "    }\n",
       "</style>\n",
       "<table border=\"1\" class=\"dataframe\">\n",
       "  <thead>\n",
       "    <tr style=\"text-align: right;\">\n",
       "      <th></th>\n",
       "      <th>name</th>\n",
       "      <th>gender</th>\n",
       "    </tr>\n",
       "  </thead>\n",
       "  <tbody>\n",
       "    <tr>\n",
       "      <th>0</th>\n",
       "      <td>Aaron</td>\n",
       "      <td>Male</td>\n",
       "    </tr>\n",
       "    <tr>\n",
       "      <th>1</th>\n",
       "      <td>Abdeljalil</td>\n",
       "      <td>Male</td>\n",
       "    </tr>\n",
       "    <tr>\n",
       "      <th>2</th>\n",
       "      <td>Abdelrahman</td>\n",
       "      <td>Male</td>\n",
       "    </tr>\n",
       "    <tr>\n",
       "      <th>3</th>\n",
       "      <td>Abdessalam</td>\n",
       "      <td>Male</td>\n",
       "    </tr>\n",
       "    <tr>\n",
       "      <th>4</th>\n",
       "      <td>Abdessamih</td>\n",
       "      <td>Male</td>\n",
       "    </tr>\n",
       "  </tbody>\n",
       "</table>\n",
       "</div>"
      ],
      "text/plain": [
       "          name gender\n",
       "0        Aaron   Male\n",
       "1   Abdeljalil   Male\n",
       "2  Abdelrahman   Male\n",
       "3   Abdessalam   Male\n",
       "4   Abdessamih   Male"
      ]
     },
     "execution_count": 7,
     "metadata": {},
     "output_type": "execute_result"
    }
   ],
   "source": [
    "names.head()"
   ]
  },
  {
   "cell_type": "code",
   "execution_count": 9,
   "id": "8079c681-ab2e-4c07-be58-52b695af9e77",
   "metadata": {},
   "outputs": [],
   "source": [
    "boys = names[(names['gender'] == 'Male')].copy()\n",
    "girls = names[(names['gender'] == 'Female')].copy()\n",
    "\n",
    "boys.reset_index(drop=True, inplace=True)\n",
    "girls.reset_index(drop=True, inplace=True)\n",
    "\n",
    "boys.drop('gender', axis = 1, inplace=True)\n",
    "girls.drop('gender', axis = 1, inplace=True)"
   ]
  },
  {
   "cell_type": "code",
   "execution_count": 10,
   "id": "de600410-0171-428c-bc5f-79e00029dd9a",
   "metadata": {},
   "outputs": [
    {
     "data": {
      "text/html": [
       "<div>\n",
       "<style scoped>\n",
       "    .dataframe tbody tr th:only-of-type {\n",
       "        vertical-align: middle;\n",
       "    }\n",
       "\n",
       "    .dataframe tbody tr th {\n",
       "        vertical-align: top;\n",
       "    }\n",
       "\n",
       "    .dataframe thead th {\n",
       "        text-align: right;\n",
       "    }\n",
       "</style>\n",
       "<table border=\"1\" class=\"dataframe\">\n",
       "  <thead>\n",
       "    <tr style=\"text-align: right;\">\n",
       "      <th></th>\n",
       "      <th>name</th>\n",
       "    </tr>\n",
       "  </thead>\n",
       "  <tbody>\n",
       "    <tr>\n",
       "      <th>0</th>\n",
       "      <td>Aaron</td>\n",
       "    </tr>\n",
       "    <tr>\n",
       "      <th>1</th>\n",
       "      <td>Abdeljalil</td>\n",
       "    </tr>\n",
       "    <tr>\n",
       "      <th>2</th>\n",
       "      <td>Abdelrahman</td>\n",
       "    </tr>\n",
       "    <tr>\n",
       "      <th>3</th>\n",
       "      <td>Abdessalam</td>\n",
       "    </tr>\n",
       "    <tr>\n",
       "      <th>4</th>\n",
       "      <td>Abdessamih</td>\n",
       "    </tr>\n",
       "  </tbody>\n",
       "</table>\n",
       "</div>"
      ],
      "text/plain": [
       "          name\n",
       "0        Aaron\n",
       "1   Abdeljalil\n",
       "2  Abdelrahman\n",
       "3   Abdessalam\n",
       "4   Abdessamih"
      ]
     },
     "execution_count": 10,
     "metadata": {},
     "output_type": "execute_result"
    }
   ],
   "source": [
    "boys.head()\n"
   ]
  },
  {
   "cell_type": "code",
   "execution_count": 11,
   "id": "e18c49f0-a694-4954-8b8d-eeb8fa40c086",
   "metadata": {},
   "outputs": [
    {
     "data": {
      "text/html": [
       "<div>\n",
       "<style scoped>\n",
       "    .dataframe tbody tr th:only-of-type {\n",
       "        vertical-align: middle;\n",
       "    }\n",
       "\n",
       "    .dataframe tbody tr th {\n",
       "        vertical-align: top;\n",
       "    }\n",
       "\n",
       "    .dataframe thead th {\n",
       "        text-align: right;\n",
       "    }\n",
       "</style>\n",
       "<table border=\"1\" class=\"dataframe\">\n",
       "  <thead>\n",
       "    <tr style=\"text-align: right;\">\n",
       "      <th></th>\n",
       "      <th>name</th>\n",
       "    </tr>\n",
       "  </thead>\n",
       "  <tbody>\n",
       "    <tr>\n",
       "      <th>0</th>\n",
       "      <td>Adama</td>\n",
       "    </tr>\n",
       "    <tr>\n",
       "      <th>1</th>\n",
       "      <td>Adela</td>\n",
       "    </tr>\n",
       "    <tr>\n",
       "      <th>2</th>\n",
       "      <td>Admir</td>\n",
       "    </tr>\n",
       "    <tr>\n",
       "      <th>3</th>\n",
       "      <td>Adriana</td>\n",
       "    </tr>\n",
       "    <tr>\n",
       "      <th>4</th>\n",
       "      <td>Aeon</td>\n",
       "    </tr>\n",
       "  </tbody>\n",
       "</table>\n",
       "</div>"
      ],
      "text/plain": [
       "      name\n",
       "0    Adama\n",
       "1    Adela\n",
       "2    Admir\n",
       "3  Adriana\n",
       "4     Aeon"
      ]
     },
     "execution_count": 11,
     "metadata": {},
     "output_type": "execute_result"
    }
   ],
   "source": [
    "girls.head()"
   ]
  },
  {
   "cell_type": "markdown",
   "id": "62c8cd13-b761-4e77-895a-8d431a60e4dd",
   "metadata": {},
   "source": [
    "## Convert names into feature arrays"
   ]
  },
  {
   "cell_type": "markdown",
   "id": "8d1f4715-9c0d-48bd-9476-0986358fda36",
   "metadata": {},
   "source": [
    "### Creating all supporting functions"
   ]
  },
  {
   "cell_type": "code",
   "execution_count": 12,
   "id": "1cb0fa9b-9fa5-4255-b9a6-6890f368ab74",
   "metadata": {},
   "outputs": [],
   "source": [
    "from unidecode import unidecode\n",
    "import hashlib\n",
    "\n",
    "def str_hashing(string):\n",
    "    return int(hashlib.sha512(string.encode('utf-8')).hexdigest(), 16)\n",
    "\n",
    "def hashfeatures(name, d, FIX, debug=False):\n",
    "    \"\"\"\n",
    "    Input:\n",
    "        name : a string representing the name to be hashed\n",
    "        d: the number of dimensions to be in the feature vector\n",
    "        FIX: the number of chunks to extract and hash from each string\n",
    "        debug: a bool for printing debug values (default False)\n",
    "    \n",
    "    Output:\n",
    "        v: a feature vector representing the input string\n",
    "    \"\"\"\n",
    "    name = unidecode(name).lower()\n",
    "    \n",
    "    v = np.zeros(d)\n",
    "    for m in range(1, FIX+1):\n",
    "        prefix = name[:m] + \">\"\n",
    "        P = str_hashing(prefix) % d\n",
    "        v[P] = 1\n",
    "        \n",
    "        suffix = \"<\" + name[-m:]\n",
    "        S = str_hashing(suffix) % d\n",
    "        v[S] = 1\n",
    "        \n",
    "        if debug:\n",
    "            print(f\"Split {m}/{FIX}:\\t({prefix}, {suffix}),\\t1s at indices [{P}, {S}]\")\n",
    "    if debug:\n",
    "        print(f\"Feature vector for {name}:\\n{v.astype(int)}\\n\")\n",
    "    return v"
   ]
  },
  {
   "cell_type": "code",
   "execution_count": 13,
   "id": "db36534b-73aa-4aae-96eb-e3ae676ede9a",
   "metadata": {},
   "outputs": [
    {
     "name": "stdout",
     "output_type": "stream",
     "text": [
      "Split 1/3:\t(z>, <s),\t1s at indices [101, 125]\n",
      "Split 2/3:\t(zy>, <as),\t1s at indices [99, 69]\n",
      "Split 3/3:\t(zyg>, <tas),\t1s at indices [119, 111]\n",
      "Feature vector for zygantas:\n",
      "[0 0 0 0 0 0 0 0 0 0 0 0 0 0 0 0 0 0 0 0 0 0 0 0 0 0 0 0 0 0 0 0 0 0 0 0 0\n",
      " 0 0 0 0 0 0 0 0 0 0 0 0 0 0 0 0 0 0 0 0 0 0 0 0 0 0 0 0 0 0 0 0 1 0 0 0 0\n",
      " 0 0 0 0 0 0 0 0 0 0 0 0 0 0 0 0 0 0 0 0 0 0 0 0 0 1 0 1 0 0 0 0 0 0 0 0 0\n",
      " 1 0 0 0 0 0 0 0 1 0 0 0 0 0 1 0 0]\n",
      "\n",
      "Split 1/3:\t(z>, <s),\t1s at indices [101, 125]\n",
      "Split 2/3:\t(zy>, <as),\t1s at indices [99, 69]\n",
      "Split 3/3:\t(zyg>, <tas),\t1s at indices [119, 111]\n",
      "Feature vector for zygantas:\n",
      "[0 0 0 0 0 0 0 0 0 0 0 0 0 0 0 0 0 0 0 0 0 0 0 0 0 0 0 0 0 0 0 0 0 0 0 0 0\n",
      " 0 0 0 0 0 0 0 0 0 0 0 0 0 0 0 0 0 0 0 0 0 0 0 0 0 0 0 0 0 0 0 0 1 0 0 0 0\n",
      " 0 0 0 0 0 0 0 0 0 0 0 0 0 0 0 0 0 0 0 0 0 0 0 0 0 1 0 1 0 0 0 0 0 0 0 0 0\n",
      " 1 0 0 0 0 0 0 0 1 0 0 0 0 0 1 0 0]\n",
      "\n"
     ]
    }
   ],
   "source": [
    "v1 = hashfeatures('Žygantas', d=128, FIX=3, debug=True)\n",
    "v2 = hashfeatures('Zygantas', d=128, FIX=3, debug=True)"
   ]
  },
  {
   "cell_type": "code",
   "execution_count": 18,
   "id": "e79ddc45-2707-44d7-8f4f-66427f6bfb8a",
   "metadata": {},
   "outputs": [],
   "source": [
    "def name2features(df, col_name, d=128, FIX=3):\n",
    "    \"\"\"\n",
    "    Output:\n",
    "        X : n feature vectors of dimension d, (nxd)\n",
    "    \"\"\"\n",
    "  \n",
    "    n = len(df)\n",
    "    X = np.zeros((n, d))\n",
    "    for i in range(n):\n",
    "        X[i,:] = hashfeatures(df.loc[i, col_name], d, FIX)\n",
    "     \n",
    "    return X"
   ]
  },
  {
   "cell_type": "code",
   "execution_count": 16,
   "id": "9bdc6878-299f-48a3-99ae-23ead3a431fb",
   "metadata": {},
   "outputs": [],
   "source": [
    "def genTrainFeatures(dimension, FIX):\n",
    "    \"\"\"\n",
    "    Input: \n",
    "        dimension: desired dimension of the features\n",
    "    Output: \n",
    "        X: n feature vectors of dimensionality d (nxd)\n",
    "        Y: n labels (-1 = girl, +1 = boy) (n)\n",
    "    \"\"\"\n",
    "    \n",
    "    # Load in the data\n",
    "    Xgirls = name2features(df=girls, col_name='name', d=dimension, FIX=FIX)\n",
    "    Xboys = name2features(df=boys, col_name='name', d=dimension, FIX=FIX)\n",
    "    X = np.concatenate([Xgirls, Xboys])\n",
    "    \n",
    "    # Generate Labels\n",
    "    Y = np.concatenate([-np.ones(len(Xgirls)), np.ones(len(Xboys))])\n",
    "    \n",
    "    # shuffle data into random order\n",
    "    ii = np.random.permutation([i for i in range(len(Y))])\n",
    "    \n",
    "    return X[ii, :], Y[ii]"
   ]
  },
  {
   "cell_type": "markdown",
   "id": "19ac0f77-4169-426a-9c15-4b225f72775f",
   "metadata": {},
   "source": [
    "### Convert our dataset to X, y arrays"
   ]
  },
  {
   "cell_type": "code",
   "execution_count": 19,
   "id": "d9f3e2d3-f039-481e-a738-9541b3ba67eb",
   "metadata": {},
   "outputs": [],
   "source": [
    "X, y = genTrainFeatures(dimension=128, FIX=3)"
   ]
  },
  {
   "cell_type": "code",
   "execution_count": 20,
   "id": "7dfc7ef1-6751-4b82-9373-1f44b689f944",
   "metadata": {},
   "outputs": [],
   "source": [
    "Xtr, Xte, Ytr, Yte = train_test_split(X, y, test_size=0.20, random_state=42)"
   ]
  },
  {
   "cell_type": "markdown",
   "id": "d204af2a-7239-498c-a94e-8af17404e8f8",
   "metadata": {},
   "source": [
    "## Testing with different ML Models"
   ]
  },
  {
   "cell_type": "markdown",
   "id": "64da3e81-8737-467e-a65b-8f514b56a511",
   "metadata": {},
   "source": [
    "### Functions for models performance evaluation"
   ]
  },
  {
   "cell_type": "code",
   "execution_count": 21,
   "id": "a49d6f71-4c04-4733-bf96-fdb0d85a62a8",
   "metadata": {},
   "outputs": [],
   "source": [
    "from sklearn.metrics import accuracy_score\n",
    "from sklearn.metrics import precision_score\n",
    "from sklearn.metrics import recall_score\n",
    "from sklearn.metrics import f1_score\n",
    "from sklearn.metrics import roc_auc_score\n",
    "from sklearn.metrics import confusion_matrix\n",
    "from sklearn.metrics import ConfusionMatrixDisplay\n",
    "from sklearn.metrics import roc_curve\n",
    "from sklearn.metrics import RocCurveDisplay\n",
    "from sklearn.metrics import precision_recall_curve\n",
    "from sklearn.metrics import PrecisionRecallDisplay\n",
    "\n",
    "def model_eval(model, Xtr, Ytr, Xtest, Ytest):\n",
    "    Ypred = model.predict(Xtest)\n",
    "    Ypred_tr = model.predict(Xtr)\n",
    "    y_score = model.decision_function(Xtest)\n",
    "    \n",
    "    accuracy_tr = accuracy_score(Ytr, Ypred_tr)\n",
    "    accuracy_te = accuracy_score(Ytest, Ypred)\n",
    "    precision = precision_score(Ytest, Ypred)\n",
    "    recall = recall_score(Ytest, Ypred)\n",
    "    f1 = f1_score(Ytest, Ypred)\n",
    "    roc = roc_auc_score(Ytest, Ypred)\n",
    "    \n",
    "    print(f'''Evaluation metrics:\n",
    "              training accuracy: {accuracy_tr}\n",
    "              testing accuracy: {accuracy_te}\n",
    "              precision: {precision}\n",
    "              recall: {recall}\n",
    "              f1: {f1}\n",
    "              AUC: {roc}''')\n",
    "    \n",
    "    cm = confusion_matrix(Ytest, Ypred)\n",
    "    cm_display = ConfusionMatrixDisplay(cm).plot()\n",
    "    \n",
    "    \n",
    "    fpr, tpr, _ = roc_curve(Ytest, y_score, pos_label=model.classes_[1])\n",
    "    roc_display = RocCurveDisplay(fpr=fpr, tpr=tpr).plot()\n",
    "       \n",
    "    prec, recall, _ = precision_recall_curve(Ytest, y_score, pos_label=model.classes_[1])\n",
    "    pr_display = PrecisionRecallDisplay(precision=prec, recall=recall).plot()\n",
    "    \n",
    "def model_eval_simple(model, Xtr, Ytr, Xtest, Ytest):\n",
    "    Ypred = model.predict(Xtest)\n",
    "    Ypred_tr = model.predict(Xtr)\n",
    "\n",
    "    \n",
    "    accuracy_tr = accuracy_score(Ytr, Ypred_tr)\n",
    "    accuracy_te = accuracy_score(Ytest, Ypred)\n",
    "    precision = precision_score(Ytest, Ypred)\n",
    "    recall = recall_score(Ytest, Ypred)\n",
    "    f1 = f1_score(Ytest, Ypred)\n",
    "    roc = roc_auc_score(Ytest, Ypred)\n",
    "    \n",
    "    print(f'''Evaluation metrics:\n",
    "              training accuracy: {accuracy_tr}\n",
    "              testing accuracy: {accuracy_te}\n",
    "              precision: {precision}\n",
    "              recall: {recall}\n",
    "              f1: {f1}\n",
    "              AUC: {roc}''')\n",
    "    \n",
    "    cm = confusion_matrix(Ytest, Ypred)\n",
    "    cm_display = ConfusionMatrixDisplay(cm).plot()"
   ]
  },
  {
   "cell_type": "markdown",
   "id": "cf109442-d16c-4ab5-a7a0-b23b6d4dd14a",
   "metadata": {},
   "source": [
    "### Naive Bayes Models"
   ]
  },
  {
   "cell_type": "code",
   "execution_count": 19,
   "id": "322e2f1a-263f-49bf-9d5c-512781a76d0e",
   "metadata": {},
   "outputs": [
    {
     "name": "stdout",
     "output_type": "stream",
     "text": [
      "Evaluation metrics:\n",
      "              training accuracy: 0.7583972719522591\n",
      "              testing accuracy: 0.7539821715621803\n",
      "              precision: 0.7592616496708403\n",
      "              recall: 0.7965872156013001\n",
      "              f1: 0.7774767034564801\n",
      "              AUC: 0.7503247090383524\n"
     ]
    },
    {
     "data": {
      "image/png": "[encoded data removed]",
      "text/plain": [
       "<Figure size 432x288 with 2 Axes>"
      ]
     },
     "metadata": {
      "needs_background": "light"
     },
     "output_type": "display_data"
    }
   ],
   "source": [
    "from sklearn.naive_bayes import CategoricalNB\n",
    "\n",
    "Xtr1, Xval, Ytr1, Yval = train_test_split(Xtr, Ytr, test_size=0.25, random_state=42) # splitting training data on training / validation\n",
    "cnb = CategoricalNB()\n",
    "\n",
    "cnb.fit(Xtr1, Ytr1)\n",
    "model_eval_simple(cnb, Xtr1, Ytr1, Xval, Yval)"
   ]
  },
  {
   "cell_type": "code",
   "execution_count": 20,
   "id": "6c7104ab-a379-4988-8cb6-78908f331b33",
   "metadata": {},
   "outputs": [
    {
     "name": "stdout",
     "output_type": "stream",
     "text": [
      "Evaluation metrics:\n",
      "              training accuracy: 0.7583972719522591\n",
      "              testing accuracy: 0.7539821715621803\n",
      "              precision: 0.7592616496708403\n",
      "              recall: 0.7965872156013001\n",
      "              f1: 0.7774767034564801\n",
      "              AUC: 0.7503247090383524\n"
     ]
    },
    {
     "data": {
      "image/png": "[encoded data removed]",
      "text/plain": [
       "<Figure size 432x288 with 2 Axes>"
      ]
     },
     "metadata": {
      "needs_background": "light"
     },
     "output_type": "display_data"
    }
   ],
   "source": [
    "from sklearn.naive_bayes import BernoulliNB\n",
    "\n",
    "Xtr1, Xval, Ytr1, Yval = train_test_split(Xtr, Ytr, test_size=0.25, random_state=42) # splitting training data on training / validation\n",
    "bnb = BernoulliNB()\n",
    "\n",
    "bnb.fit(Xtr1, Ytr1)\n",
    "model_eval_simple(bnb, Xtr1, Ytr1, Xval, Yval)"
   ]
  },
  {
   "cell_type": "markdown",
   "id": "803a11d5-28a4-460b-b107-013aa84d54ad",
   "metadata": {},
   "source": [
    "### Logistic Regression"
   ]
  },
  {
   "cell_type": "code",
   "execution_count": 22,
   "id": "30bc0e4e-9ed9-43e0-b19c-eb421c59cf2d",
   "metadata": {},
   "outputs": [
    {
     "name": "stdout",
     "output_type": "stream",
     "text": [
      "Evaluation metrics:\n",
      "              training accuracy: 0.7687979539641944\n",
      "              testing accuracy: 0.7633347946806956\n",
      "              precision: 0.7701029584256484\n",
      "              recall: 0.8002437703141928\n",
      "              f1: 0.7848841070598392\n",
      "              AUC: 0.7601663154966711\n"
     ]
    },
    {
     "data": {
      "image/png": "[encoded data removed]",
      "text/plain": [
       "<Figure size 432x288 with 2 Axes>"
      ]
     },
     "metadata": {
      "needs_background": "light"
     },
     "output_type": "display_data"
    },
    {
     "data": {
      "image/png": "[encoded data removed]",
      "text/plain": [
       "<Figure size 432x288 with 1 Axes>"
      ]
     },
     "metadata": {
      "needs_background": "light"
     },
     "output_type": "display_data"
    },
    {
     "data": {
      "image/png": "[encoded data removed]",
      "text/plain": [
       "<Figure size 432x288 with 1 Axes>"
      ]
     },
     "metadata": {
      "needs_background": "light"
     },
     "output_type": "display_data"
    }
   ],
   "source": [
    "from sklearn.linear_model import LogisticRegression\n",
    "Xtr1, Xval, Ytr1, Yval = train_test_split(Xtr, Ytr, test_size=0.25, random_state=42) # splitting training data on training / validation\n",
    "log_reg = LogisticRegression(max_iter=5000)\n",
    "log_reg.fit(Xtr1, Ytr1)\n",
    "\n",
    "model_eval(log_reg, Xtr1, Ytr1, Xval, Yval)"
   ]
  },
  {
   "cell_type": "markdown",
   "id": "2ee1a3e2-061f-4590-9832-be3d31c37974",
   "metadata": {},
   "source": [
    "### Linear Support Vector Machine"
   ]
  },
  {
   "cell_type": "code",
   "execution_count": 23,
   "id": "01b316cb-b172-4eb6-894e-73a5ab8a3a20",
   "metadata": {},
   "outputs": [
    {
     "name": "stdout",
     "output_type": "stream",
     "text": [
      "Evaluation metrics:\n",
      "              training accuracy: 0.7549628547071002\n",
      "              testing accuracy: 0.7517901505187783\n",
      "              precision: 0.7722244981564932\n",
      "              recall: 0.7658450704225352\n",
      "              f1: 0.7690215543618686\n",
      "              AUC: 0.7505835951922261\n"
     ]
    },
    {
     "data": {
      "image/png": "[encoded data removed]",
      "text/plain": [
       "<Figure size 432x288 with 2 Axes>"
      ]
     },
     "metadata": {
      "needs_background": "light"
     },
     "output_type": "display_data"
    },
    {
     "data": {
      "image/png": "[encoded data removed]",
      "text/plain": [
       "<Figure size 432x288 with 1 Axes>"
      ]
     },
     "metadata": {
      "needs_background": "light"
     },
     "output_type": "display_data"
    },
    {
     "data": {
      "image/png": "[encoded data removed]",
      "text/plain": [
       "<Figure size 432x288 with 1 Axes>"
      ]
     },
     "metadata": {
      "needs_background": "light"
     },
     "output_type": "display_data"
    }
   ],
   "source": [
    "from sklearn.svm import LinearSVC\n",
    "Xtr1, Xval, Ytr1, Yval = train_test_split(Xtr, Ytr, test_size=0.25, random_state=42) # splitting training data on training / validation\n",
    "svm_linear = LinearSVC(penalty='l2', loss='hinge', C=2, max_iter=10000, random_state=0)\n",
    "svm_linear.fit(Xtr1, Ytr1)\n",
    "\n",
    "model_eval(svm_linear, Xtr1, Ytr1, Xval, Yval)"
   ]
  },
  {
   "cell_type": "markdown",
   "id": "637d8d33-d844-499c-8834-ce3d3130164c",
   "metadata": {},
   "source": [
    "### Support Vector Machine with kernel"
   ]
  },
  {
   "cell_type": "code",
   "execution_count": 24,
   "id": "2073a8a1-e77b-403d-8fe5-883158e4d9ae",
   "metadata": {},
   "outputs": [
    {
     "name": "stderr",
     "output_type": "stream",
     "text": [
      "C:\\Users\\Peter.Savvateev\\AppData\\Local\\Programs\\Python\\Python310\\lib\\site-packages\\sklearn\\svm\\_base.py:301: ConvergenceWarning: Solver terminated early (max_iter=10000).  Consider pre-processing your data with StandardScaler or MinMaxScaler.\n",
      "  warnings.warn(\n"
     ]
    },
    {
     "name": "stdout",
     "output_type": "stream",
     "text": [
      "Evaluation metrics:\n",
      "              training accuracy: 0.965631469979296\n",
      "              testing accuracy: 0.8050562618734474\n",
      "              precision: 0.8100184065211675\n",
      "              recall: 0.8343716143011918\n",
      "              f1: 0.8220146764509673\n",
      "              AUC: 0.8025396630693518\n"
     ]
    },
    {
     "data": {
      "image/png": "[encoded data removed]",
      "text/plain": [
       "<Figure size 432x288 with 2 Axes>"
      ]
     },
     "metadata": {
      "needs_background": "light"
     },
     "output_type": "display_data"
    },
    {
     "data": {
      "image/png": "[encoded data removed]",
      "text/plain": [
       "<Figure size 432x288 with 1 Axes>"
      ]
     },
     "metadata": {
      "needs_background": "light"
     },
     "output_type": "display_data"
    },
    {
     "data": {
      "image/png": "[encoded data removed]",
      "text/plain": [
       "<Figure size 432x288 with 1 Axes>"
      ]
     },
     "metadata": {
      "needs_background": "light"
     },
     "output_type": "display_data"
    }
   ],
   "source": [
    "from sklearn.svm import SVC\n",
    "Xtr1, Xval, Ytr1, Yval = train_test_split(Xtr, Ytr, test_size=0.25, random_state=42) # splitting training data on training / validation\n",
    "svm_kernel = SVC(\n",
    "    C=100,\n",
    "    kernel='rbf',\n",
    "    gamma=1, # equivalent to kpar in our implementation\n",
    "    shrinking=False,\n",
    "    tol=1e-8, # early stopping threshold, solver stops when successive losses don't change more than tol\n",
    "    max_iter=10000,\n",
    "    random_state=0\n",
    ")\n",
    "\n",
    "svm_kernel.fit(Xtr1, Ytr1)\n",
    "\n",
    "model_eval(svm_kernel,  Xtr1, Ytr1, Xval, Yval)"
   ]
  },
  {
   "cell_type": "markdown",
   "id": "5795336a-fbe5-45fb-9452-cb415b4a50a5",
   "metadata": {},
   "source": [
    "### CART algorithm"
   ]
  },
  {
   "cell_type": "code",
   "execution_count": 25,
   "id": "abc0553c-4e7a-4c08-8fd8-f6b1d9d8d919",
   "metadata": {},
   "outputs": [
    {
     "name": "stdout",
     "output_type": "stream",
     "text": [
      "Evaluation metrics:\n",
      "              training accuracy: 0.8777493606138107\n",
      "              testing accuracy: 0.7818939061814993\n",
      "              precision: 0.7813739286171165\n",
      "              recall: 0.8271939328277357\n",
      "              f1: 0.8036313400434182\n",
      "              AUC: 0.7780050908188187\n"
     ]
    },
    {
     "data": {
      "image/png": "[encoded data removed]",
      "text/plain": [
       "<Figure size 432x288 with 2 Axes>"
      ]
     },
     "metadata": {
      "needs_background": "light"
     },
     "output_type": "display_data"
    }
   ],
   "source": [
    "from sklearn.tree import DecisionTreeClassifier\n",
    "Xtr1, Xval, Ytr1, Yval = train_test_split(Xtr, Ytr, test_size=0.25, random_state=42) # splitting training data on training / validation\n",
    "\n",
    "tree = DecisionTreeClassifier(max_depth = 22)\n",
    "tree.fit(Xtr1, Ytr1)\n",
    "\n",
    "model_eval_simple(tree, Xtr1, Ytr1, Xval, Yval)"
   ]
  },
  {
   "cell_type": "markdown",
   "id": "5274a767-5b18-429e-8024-d22c16c27373",
   "metadata": {},
   "source": [
    "### Random Forest"
   ]
  },
  {
   "cell_type": "code",
   "execution_count": 26,
   "id": "16d14a3d-83b2-4105-a224-1628c95f9501",
   "metadata": {},
   "outputs": [
    {
     "name": "stdout",
     "output_type": "stream",
     "text": [
      "Evaluation metrics:\n",
      "              training accuracy: 0.965631469979296\n",
      "              testing accuracy: 0.8067368113400555\n",
      "              precision: 0.8109172024668678\n",
      "              recall: 0.8369447453954496\n",
      "              f1: 0.8237254248583806\n",
      "              AUC: 0.8041435881848719\n"
     ]
    },
    {
     "data": {
      "image/png": "[encoded data removed]",
      "text/plain": [
       "<Figure size 432x288 with 2 Axes>"
      ]
     },
     "metadata": {
      "needs_background": "light"
     },
     "output_type": "display_data"
    }
   ],
   "source": [
    "from sklearn.ensemble import RandomForestClassifier\n",
    "Xtr1, Xval, Ytr1, Yval = train_test_split(Xtr, Ytr, test_size=0.25, random_state=42) # splitting training data on training / validation\n",
    "forest = RandomForestClassifier(n_estimators=200, max_depth=None)\n",
    "forest.fit(Xtr1, Ytr1)\n",
    "\n",
    "model_eval_simple(forest,  Xtr1, Ytr1, Xval, Yval)"
   ]
  },
  {
   "cell_type": "markdown",
   "id": "806244ac-345d-40dc-96fe-578cdfe4b625",
   "metadata": {},
   "source": [
    "### Finding the right mix of FIX and dimension parameters\n",
    "applying it for Random Forest model as the one showing relatively the best performance"
   ]
  },
  {
   "cell_type": "code",
   "execution_count": 27,
   "id": "8ff39631-09e8-4b66-92ae-f1b91e858d81",
   "metadata": {},
   "outputs": [],
   "source": [
    "dims = [i for i in range(200, 400, 20)]\n",
    "\n",
    "FIX = 2\n",
    "errors_0 = []\n",
    "for i in dims:\n",
    "    X, y = genTrainFeatures(dimension=i, FIX=FIX)\n",
    "    Xtr, Xte, Ytr, Yte = train_test_split(X, y, test_size=0.25, random_state=42)\n",
    "    forest = RandomForestClassifier(n_estimators=100, max_depth=None)\n",
    "    forest.fit(Xtr, Ytr)\n",
    "    Ypred = forest.predict(Xte)\n",
    "    accuracy = accuracy_score(Yte, Ypred)\n",
    "    error = 1 - accuracy\n",
    "    errors_0.append(error)\n",
    "    \n",
    "FIX = 3\n",
    "errors_1 = []\n",
    "for i in dims:\n",
    "    X, y = genTrainFeatures(dimension=i, FIX=FIX)\n",
    "    Xtr, Xte, Ytr, Yte = train_test_split(X, y, test_size=0.25, random_state=42)\n",
    "    forest = RandomForestClassifier(n_estimators=100, max_depth=None)\n",
    "    forest.fit(Xtr, Ytr)\n",
    "    Ypred = forest.predict(Xte)\n",
    "    accuracy = accuracy_score(Yte, Ypred)\n",
    "    error = 1 - accuracy\n",
    "    errors_1.append(error)\n",
    "\n",
    "FIX = 4\n",
    "errors_2 = []\n",
    "for i in dims:\n",
    "    X, y = genTrainFeatures(dimension=i, FIX=FIX)\n",
    "    Xtr, Xte, Ytr, Yte = train_test_split(X, y, test_size=0.25, random_state=42)\n",
    "    forest = RandomForestClassifier(n_estimators=100, max_depth=None)\n",
    "    forest.fit(Xtr, Ytr)\n",
    "    Ypred = forest.predict(Xte)\n",
    "    accuracy = accuracy_score(Yte, Ypred)\n",
    "    error = 1 - accuracy\n",
    "    errors_2.append(error)"
   ]
  },
  {
   "cell_type": "code",
   "execution_count": 28,
   "id": "6cbf0d2c-0d35-4f1c-9610-c5ba54f09403",
   "metadata": {},
   "outputs": [
    {
     "data": {
      "image/png": "[encoded data removed]",
      "text/plain": [
       "<Figure size 432x288 with 1 Axes>"
      ]
     },
     "metadata": {
      "needs_background": "light"
     },
     "output_type": "display_data"
    }
   ],
   "source": [
    "import matplotlib.pyplot as plt\n",
    "from matplotlib.pyplot import figure\n",
    "\n",
    "plt.plot(dims, errors_0, label = 'FIX = 2')\n",
    "plt.plot(dims, errors_1, label = 'FIX = 3')\n",
    "plt.plot(dims, errors_2, label = 'FIX = 4')\n",
    "\n",
    "plt.title('Error vs. dimension')\n",
    "plt.xlabel('Dimension')\n",
    "plt.ylabel('Error')\n",
    "plt.legend()\n",
    "plt.show()"
   ]
  },
  {
   "cell_type": "markdown",
   "id": "9b487346-867d-445f-aa87-0f3195325a16",
   "metadata": {},
   "source": [
    "### Final Model"
   ]
  },
  {
   "cell_type": "code",
   "execution_count": 22,
   "id": "3f875254-963a-4725-a9ee-5af7787e4a2c",
   "metadata": {},
   "outputs": [
    {
     "name": "stdout",
     "output_type": "stream",
     "text": [
      "Evaluation metrics:\n",
      "              training accuracy: 0.9606960520675006\n",
      "              testing accuracy: 0.8198398316478634\n",
      "              precision: 0.8257766582703611\n",
      "              recall: 0.8469321851453175\n",
      "              f1: 0.836220639812945\n",
      "              AUC: 0.8172872515850677\n"
     ]
    },
    {
     "data": {
      "image/png": "[encoded data removed]",
      "text/plain": [
       "<Figure size 432x288 with 2 Axes>"
      ]
     },
     "metadata": {
      "needs_background": "light"
     },
     "output_type": "display_data"
    }
   ],
   "source": [
    "from sklearn.ensemble import RandomForestClassifier\n",
    "\n",
    "X, Y = genTrainFeatures(dimension=320, FIX=3)\n",
    "Xtr, Xte, Ytr, Yte = train_test_split(X, Y, test_size=0.25, random_state=42)\n",
    "\n",
    "forest = RandomForestClassifier(n_estimators=200, max_depth=None)\n",
    "forest.fit(Xtr, Ytr)\n",
    "\n",
    "model_eval_simple(forest,  Xtr, Ytr, Xte, Yte)\n"
   ]
  },
  {
   "cell_type": "markdown",
   "id": "2d48f060-1587-49db-bbbb-d9025cf90e79",
   "metadata": {},
   "source": [
    "#### Some Testing"
   ]
  },
  {
   "cell_type": "code",
   "execution_count": 37,
   "id": "31c4aa9d-7d05-4ede-8076-89f8b090315f",
   "metadata": {},
   "outputs": [
    {
     "data": {
      "text/plain": [
       "array([1.])"
      ]
     },
     "execution_count": 37,
     "metadata": {},
     "output_type": "execute_result"
    }
   ],
   "source": [
    "name = 'Luka'\n",
    "name_vector = hashfeatures(name, d=320, FIX=3)\n",
    "forest.predict(name_vector.reshape(1, -1))"
   ]
  },
  {
   "cell_type": "code",
   "execution_count": 38,
   "id": "4dd1dc4e-0bc5-481e-9573-615fdc0feb44",
   "metadata": {},
   "outputs": [
    {
     "data": {
      "text/plain": [
       "array([[0.045, 0.955]])"
      ]
     },
     "execution_count": 38,
     "metadata": {},
     "output_type": "execute_result"
    }
   ],
   "source": [
    "forest.predict_proba(name_vector.reshape(1, -1))"
   ]
  },
  {
   "cell_type": "markdown",
   "id": "19f52142-105f-4038-a47f-1a241166bd08",
   "metadata": {},
   "source": [
    "### Saving model to a joblib file"
   ]
  },
  {
   "cell_type": "code",
   "execution_count": 30,
   "id": "471438a4-5b3f-4477-94c6-4835b3cf9a58",
   "metadata": {},
   "outputs": [
    {
     "data": {
      "text/plain": [
       "['trained_model_rf.joblib']"
      ]
     },
     "execution_count": 30,
     "metadata": {},
     "output_type": "execute_result"
    }
   ],
   "source": [
    "from joblib import dump, load\n",
    "dump(forest, 'trained_model_rf.joblib', compress=3)"
   ]
  },
  {
   "cell_type": "code",
   "execution_count": null,
   "id": "7a923ddc-1c85-4468-8e71-aa43899c34ac",
   "metadata": {},
   "outputs": [],
   "source": []
  }
 ],
 "metadata": {
  "kernelspec": {
   "display_name": "Python 3 (ipykernel)",
   "language": "python",
   "name": "python3"
  },
  "language_info": {
   "codemirror_mode": {
    "name": "ipython",
    "version": 3
   },
   "file_extension": ".py",
   "mimetype": "text/x-python",
   "name": "python",
   "nbconvert_exporter": "python",
   "pygments_lexer": "ipython3",
   "version": "3.10.4"
  }
 },
 "nbformat": 4,
 "nbformat_minor": 5
}
